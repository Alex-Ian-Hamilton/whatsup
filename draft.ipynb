{
 "cells": [
  {
   "cell_type": "markdown",
   "metadata": {},
   "source": [
    "# Astroplan tutorial\n",
    "\n",
    "Set up observing location:"
   ]
  },
  {
   "cell_type": "code",
   "execution_count": 45,
   "metadata": {},
   "outputs": [],
   "source": [
    "from astropy.coordinates import EarthLocation\n",
    "from astroplan import Observer, FixedTarget\n",
    "\n",
    "# Where are you observing from:\n",
    "address = '126 5th Ave, NY, NY'\n",
    "timezeone = \"US/Eastern\"\n",
    "\n",
    "location = EarthLocation.of_address(address)\n",
    "\n",
    "observer = Observer(location=location, timezone=timezone)"
   ]
  },
  {
   "cell_type": "markdown",
   "metadata": {},
   "source": [
    "Set up observing time range, set up distance from moon constraint: "
   ]
  },
  {
   "cell_type": "code",
   "execution_count": 70,
   "metadata": {},
   "outputs": [],
   "source": [
    "from astroplan import LocalTimeConstraint, MoonSeparationConstraint, AltitudeConstraint, AtNightConstraint\n",
    "from datetime import time\n",
    "import astropy.units as u\n",
    "\n",
    "# Start and stop observing\n",
    "start_time = time(20, 0)\n",
    "end_time = time(2, 0)\n",
    "\n",
    "# Altitude constraint\n",
    "minimum_altitude = 30 * u.deg\n",
    "\n",
    "# Minimum distance from moon: \n",
    "minimum_moon_separation = 5 * u.deg\n",
    "\n",
    "constraints = [LocalTimeConstraint(min=start_time, max=end_time), \n",
    "               AltitudeConstraint(min=minimum_altitude), \n",
    "               AtNightConstraint.twilight_civil(), \n",
    "               MoonSeparationConstraint(min=minimum_moon_separation)]"
   ]
  },
  {
   "cell_type": "code",
   "execution_count": 71,
   "metadata": {},
   "outputs": [],
   "source": [
    "from astropy.time import Time\n",
    "\n",
    "start_date = Time('2018-05-03')\n",
    "end_date = Time('2018-05-10')\n",
    "\n",
    "from astroplan.utils import time_grid_from_range\n",
    "\n",
    "times = time_grid_from_range([start_date, end_date], time_resolution=1*u.hour)"
   ]
  },
  {
   "cell_type": "code",
   "execution_count": 72,
   "metadata": {},
   "outputs": [],
   "source": [
    "import json\n",
    "from astropy.coordinates import SkyCoord, Angle\n",
    "targets_json = json.load(open('targets.json', 'r'))\n",
    "targets = []\n",
    "\n",
    "for target in targets_json:\n",
    "    coord = SkyCoord(ra=Angle(targets_json[target]['RA'], u.hourangle), dec=Angle(targets_json[target]['DEC'], u.degree))\n",
    "    targets.append(FixedTarget(coord=coord, name=target))"
   ]
  },
  {
   "cell_type": "code",
   "execution_count": 74,
   "metadata": {},
   "outputs": [],
   "source": [
    "c = AtNightConstraint.twilight_civil()"
   ]
  },
  {
   "cell_type": "code",
   "execution_count": 80,
   "metadata": {},
   "outputs": [],
   "source": [
    "from astroplan import is_observable, is_always_observable\n",
    "import numpy as np\n",
    "observability = np.ones((len(targets), len(times))).astype(bool)\n",
    "\n",
    "for constraint in constraints: \n",
    "    observability &= constraint(observer, targets, times, grid_times_targets=True)"
   ]
  },
  {
   "cell_type": "code",
   "execution_count": 107,
   "metadata": {},
   "outputs": [],
   "source": [
    "names = [target.name for target in targets]\n",
    "vmags = [targets_json[target.name]['V'] for target in targets]\n",
    "\n",
    "import pandas as pd\n",
    "\n",
    "\n",
    "table = Table(rows=[vmags], names=names).to_pandas()"
   ]
  },
  {
   "cell_type": "code",
   "execution_count": 111,
   "metadata": {},
   "outputs": [],
   "source": [
    "str_times = [t.iso for t in times]"
   ]
  },
  {
   "cell_type": "code",
   "execution_count": null,
   "metadata": {},
   "outputs": [],
   "source": [
    "np.count_nonzero()"
   ]
  },
  {
   "cell_type": "code",
   "execution_count": 137,
   "metadata": {},
   "outputs": [],
   "source": [
    "df = pd.DataFrame(data=observability, columns=str_times, index=names)\n",
    "\n",
    "filter_out_unobservable_targets = df[df.any(axis=1)]"
   ]
  },
  {
   "cell_type": "code",
   "execution_count": 145,
   "metadata": {},
   "outputs": [
    {
     "data": {
      "text/plain": [
       "(46, 168)"
      ]
     },
     "execution_count": 145,
     "metadata": {},
     "output_type": "execute_result"
    }
   ],
   "source": [
    "np.array(filter_out_unobservable_targets.as_matrix()).shape"
   ]
  },
  {
   "cell_type": "code",
   "execution_count": 171,
   "metadata": {},
   "outputs": [
    {
     "data": {
      "text/plain": [
       "46"
      ]
     },
     "execution_count": 171,
     "metadata": {},
     "output_type": "execute_result"
    }
   ],
   "source": [
    "ums"
   ]
  },
  {
   "cell_type": "code",
   "execution_count": 172,
   "metadata": {},
   "outputs": [
    {
     "name": "stderr",
     "output_type": "stream",
     "text": [
      "/Users/bmmorris/anaconda/lib/python3.5/site-packages/ipykernel_launcher.py:6: SettingWithCopyWarning: \n",
      "A value is trying to be set on a copy of a slice from a DataFrame.\n",
      "Try using .loc[row_indexer,col_indexer] = value instead\n",
      "\n",
      "See the caveats in the documentation: http://pandas.pydata.org/pandas-docs/stable/indexing.html#indexing-view-versus-copy\n",
      "  \n"
     ]
    }
   ],
   "source": [
    "d = {k.iso: v for k, v in zip(times, np.sum(filter_out_unobservable_targets.as_matrix(), axis=0))}\n",
    "# filter_out_unobservable_targets.sort_index(by=d)\n",
    "\n",
    "sums = np.sum(filter_out_unobservable_targets.as_matrix(), axis=1)\n",
    "\n",
    "filter_out_unobservable_targets['sum'] = sums"
   ]
  },
  {
   "cell_type": "code",
   "execution_count": 184,
   "metadata": {},
   "outputs": [],
   "source": [
    "filter_out_unobservable_targets.sort_values('sum', ascending=False)\n",
    "final_table = filter_out_unobservable_targets.drop(columns='sum')"
   ]
  },
  {
   "cell_type": "code",
   "execution_count": 188,
   "metadata": {},
   "outputs": [
    {
     "data": {
      "text/plain": [
       "Text(0.5,0,'Time from UTC 2018-05-03 00:00:00.000 [hrs]')"
      ]
     },
     "execution_count": 188,
     "metadata": {},
     "output_type": "execute_result"
    },
    {
     "data": {
      "image/png": "[encoded data removed]",
      "text/plain": [
       "<matplotlib.figure.Figure at 0x11f4d8860>"
      ]
     },
     "metadata": {},
     "output_type": "display_data"
    }
   ],
   "source": [
    "%matplotlib inline\n",
    "import matplotlib.pyplot as plt\n",
    "\n",
    "\n",
    "plt.imshow(final_table.as_matrix(), cmap=plt.cm.Greys_r, origin='lower')\n",
    "plt.xlabel('Time from UTC {0} [hrs]'.format(times[0].iso))"
   ]
  },
  {
   "cell_type": "code",
   "execution_count": null,
   "metadata": {},
   "outputs": [],
   "source": []
  }
 ],
 "metadata": {
  "kernelspec": {
   "display_name": "Python 3",
   "language": "python",
   "name": "python3"
  },
  "language_info": {
   "codemirror_mode": {
    "name": "ipython",
    "version": 3
   },
   "file_extension": ".py",
   "mimetype": "text/x-python",
   "name": "python",
   "nbconvert_exporter": "python",
   "pygments_lexer": "ipython3",
   "version": "3.5.4"
  }
 },
 "nbformat": 4,
 "nbformat_minor": 2
}

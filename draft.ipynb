{
 "cells": [
  {
   "cell_type": "markdown",
   "metadata": {},
   "source": [
    "# Astroplan What's Up Tutorial\n",
    "\n",
    "In this tutorial we are going to walk through using Astroplan to find out when the Messier objects will be observable  for a location and time of your choosing. \n",
    "\n",
    "## Set up observing location:"
   ]
  },
  {
   "cell_type": "code",
   "execution_count": 1,
   "metadata": {
    "collapsed": false
   },
   "outputs": [],
   "source": [
    "from astropy.coordinates import EarthLocation\n",
    "from astroplan import Observer, FixedTarget"
   ]
  },
  {
   "cell_type": "code",
   "execution_count": null,
   "metadata": {
    "collapsed": true
   },
   "outputs": [],
   "source": [
    "# Where are you observing from:\n",
    "address = '126 5th Ave, New York, New York, 10010'\n",
    "timezone = \"US/Eastern\""
   ]
  },
  {
   "cell_type": "markdown",
   "metadata": {},
   "source": [
    "Use the `EarthLocation.of_address()` method to obtain your latitude and longitude. You'll need to have internet access to query Google. Then setup an `Astroplan` observer."
   ]
  },
  {
   "cell_type": "code",
   "execution_count": 2,
   "metadata": {
    "collapsed": false
   },
   "outputs": [],
   "source": [
    "location = EarthLocation.of_address(address)\n",
    "\n",
    "observer = Observer(location=location, timezone=timezone)"
   ]
  },
  {
   "cell_type": "markdown",
   "metadata": {},
   "source": [
    "Set up observing time range, minimum altitude constraint, at-night constraint and distance from moon constraint. Note that we use the `time` package here because we can put in a generic time without a full date, as in `astropy.time`."
   ]
  },
  {
   "cell_type": "code",
   "execution_count": 3,
   "metadata": {
    "collapsed": true
   },
   "outputs": [],
   "source": [
    "from astroplan import LocalTimeConstraint, MoonSeparationConstraint, AltitudeConstraint, AtNightConstraint\n",
    "from datetime import time\n",
    "import astropy.units as u\n",
    "\n",
    "# Start and stop observing\n",
    "start_time = time(20, 0)\n",
    "end_time = time(2, 0)\n",
    "\n",
    "# Altitude constraint\n",
    "minimum_altitude = 30 * u.deg\n",
    "\n",
    "# Minimum distance from moon: \n",
    "minimum_moon_separation = 5 * u.deg\n",
    "\n",
    "constraints = [LocalTimeConstraint(min=start_time, max=end_time), \n",
    "               AltitudeConstraint(min=minimum_altitude), \n",
    "               AtNightConstraint.twilight_civil(), \n",
    "               MoonSeparationConstraint(min=minimum_moon_separation)]"
   ]
  },
  {
   "cell_type": "markdown",
   "metadata": {},
   "source": [
    "Here we use `astroplan.utils.time_grid_from_range` to make a grid of times with a one hour resolution to check observability against."
   ]
  },
  {
   "cell_type": "code",
   "execution_count": 21,
   "metadata": {
    "collapsed": true
   },
   "outputs": [],
   "source": [
    "from astropy.time import Time\n",
    "\n",
    "start_date = Time('2018-05-03')\n",
    "end_date = Time('2018-05-10')\n",
    "\n",
    "from astroplan.utils import time_grid_from_range\n",
    "\n",
    "times = time_grid_from_range([start_date, end_date], time_resolution=1*u.hour)"
   ]
  },
  {
   "cell_type": "markdown",
   "metadata": {},
   "source": [
    "Load in the `json` dictionary of Messier objects and make a list of `astroplan` targets.  "
   ]
  },
  {
   "cell_type": "code",
   "execution_count": 23,
   "metadata": {
    "collapsed": true
   },
   "outputs": [],
   "source": [
    "import json\n",
    "from astropy.coordinates import SkyCoord, Angle\n",
    "targets_json = json.load(open('messier_targets.json', 'r'))\n",
    "targets = []\n",
    "\n",
    "for target in targets_json:\n",
    "    coord = SkyCoord(ra=Angle(targets_json[target]['RA'], u.hourangle), dec=Angle(targets_json[target]['DEC'], u.degree))\n",
    "    targets.append(FixedTarget(coord=coord, name=target))"
   ]
  },
  {
   "cell_type": "markdown",
   "metadata": {},
   "source": [
    "Use `astroplan.constraint` to return boolean arrays for the grid of times, targets and constraints. The full observability array is the boolean product of them all. "
   ]
  },
  {
   "cell_type": "code",
   "execution_count": 7,
   "metadata": {
    "collapsed": false
   },
   "outputs": [],
   "source": [
    "import numpy as np\n",
    "observability = np.ones((len(targets), len(times))).astype(bool)\n",
    "\n",
    "#Loop through constraints\n",
    "for constraint in constraints: \n",
    "    observability &= constraint(observer, targets, times, grid_times_targets=True)"
   ]
  },
  {
   "cell_type": "markdown",
   "metadata": {},
   "source": [
    "Make a list of object names and V magnitudes. Then make a `pandas` table, through astropy, for easy access."
   ]
  },
  {
   "cell_type": "code",
   "execution_count": 24,
   "metadata": {
    "collapsed": false
   },
   "outputs": [],
   "source": [
    "names = [target.name for target in targets]\n",
    "vmags = [targets_json[target.name]['V'] for target in targets]\n",
    "\n",
    "import pandas as pd\n",
    "from astropy.table import Table\n",
    "\n",
    "table = Table(rows=[vmags], names=names).to_pandas()"
   ]
  },
  {
   "cell_type": "markdown",
   "metadata": {},
   "source": [
    "Make a column of start times to use as column names and then label columns and rows. Once we have a `pandas` table we can easily filter out any objects that are never observable with the given constraints."
   ]
  },
  {
   "cell_type": "code",
   "execution_count": 10,
   "metadata": {
    "collapsed": true
   },
   "outputs": [],
   "source": [
    "str_times = [t.iso for t in times]\n",
    "df = pd.DataFrame(data=observability, columns=str_times, index=names)\n",
    "\n",
    "filter_out_unobservable_targets = df[df.any(axis=1)]"
   ]
  },
  {
   "cell_type": "markdown",
   "metadata": {},
   "source": [
    "Here we use the boolean sum to order the rows by the the objects that have the most observable time slots. We make a new column by which to sort, and then delete it when we are done with it. "
   ]
  },
  {
   "cell_type": "code",
   "execution_count": 12,
   "metadata": {
    "collapsed": false
   },
   "outputs": [
    {
     "name": "stderr",
     "output_type": "stream",
     "text": [
      "/Users/jeffrey/anaconda3/lib/python3.5/site-packages/ipykernel/__main__.py:6: SettingWithCopyWarning: \n",
      "A value is trying to be set on a copy of a slice from a DataFrame.\n",
      "Try using .loc[row_indexer,col_indexer] = value instead\n",
      "\n",
      "See the caveats in the documentation: http://pandas.pydata.org/pandas-docs/stable/indexing.html#indexing-view-versus-copy\n"
     ]
    }
   ],
   "source": [
    "sums = np.sum(filter_out_unobservable_targets.as_matrix(), axis=1)\n",
    "\n",
    "filter_out_unobservable_targets['sum'] = sums\n",
    "\n",
    "filter_out_unobservable_targets.sort_values('sum', ascending=False)\n",
    "final_table = filter_out_unobservable_targets.drop(columns='sum')"
   ]
  },
  {
   "cell_type": "code",
   "execution_count": null,
   "metadata": {
    "collapsed": true
   },
   "outputs": [],
   "source": []
  },
  {
   "cell_type": "code",
   "execution_count": 17,
   "metadata": {
    "collapsed": false
   },
   "outputs": [
    {
     "data": {
      "image/png": "[encoded data removed]",
      "text/plain": [
       "<matplotlib.figure.Figure at 0x10be7b7b8>"
      ]
     },
     "metadata": {},
     "output_type": "display_data"
    }
   ],
   "source": [
    "%matplotlib inline\n",
    "import matplotlib.pyplot as plt\n",
    "\n",
    "#Extent = [times[0].iso,times[-1].iso,M]\n",
    "\n",
    "plt.figure(figsize=[12,8])\n",
    "plt.imshow(final_table.as_matrix(), cmap=plt.cm.Greys_r, origin='lower')\n",
    "plt.xlabel('Time from UTC {0} [hrs]'.format(times[0].iso))\n",
    "plt.show()"
   ]
  },
  {
   "cell_type": "code",
   "execution_count": null,
   "metadata": {
    "collapsed": true
   },
   "outputs": [],
   "source": []
  }
 ],
 "metadata": {
  "kernelspec": {
   "display_name": "Python [default]",
   "language": "python",
   "name": "python3"
  },
  "language_info": {
   "codemirror_mode": {
    "name": "ipython",
    "version": 3
   },
   "file_extension": ".py",
   "mimetype": "text/x-python",
   "name": "python",
   "nbconvert_exporter": "python",
   "pygments_lexer": "ipython3",
   "version": "3.5.4"
  }
 },
 "nbformat": 4,
 "nbformat_minor": 2
}
